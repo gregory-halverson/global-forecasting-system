{
 "cells": [
  {
   "cell_type": "code",
   "execution_count": 1,
   "id": "53bc9780",
   "metadata": {},
   "outputs": [],
   "source": [
    "from sentinel_tiles import sentinel_tiles\n",
    "import global_forecasting_system\n",
    "from global_forecasting_system import forecast_Ta_C"
   ]
  },
  {
   "cell_type": "code",
   "execution_count": 2,
   "id": "1f3871fc",
   "metadata": {},
   "outputs": [],
   "source": [
    "time_UTC = \"2025-09-30 21:11:22.358885\""
   ]
  },
  {
   "cell_type": "code",
   "execution_count": 3,
   "id": "6fd7e7f9",
   "metadata": {},
   "outputs": [
    {
     "data": {
      "text/plain": [
       "{\n",
       "  \"dimensions\": {\n",
       "    \"rows\": 3660,\n",
       "    \"cols\": 3660\n",
       "  },\n",
       "  \"bbox\": {\n",
       "    \"xmin\": 600000.0,\n",
       "    \"ymin\": 3590220.0,\n",
       "    \"xmax\": 709800.0,\n",
       "    \"ymax\": 3700020.0\n",
       "  },\n",
       "  \"crs\": \"EPSG:32611\",\n",
       "  \"resolution\": {\n",
       "    \"cell_width\": 30.0,\n",
       "    \"cell_height\": -30.0\n",
       "  }\n",
       "}"
      ]
     },
     "execution_count": 3,
     "metadata": {},
     "output_type": "execute_result"
    }
   ],
   "source": [
    "geometry = sentinel_tiles.grid(\"11SPS\")\n",
    "geometry"
   ]
  },
  {
   "cell_type": "code",
   "execution_count": 4,
   "id": "b77ff62c",
   "metadata": {},
   "outputs": [
    {
     "ename": "ValueError",
     "evalue": "zero-length GFS listing",
     "output_type": "error",
     "traceback": [
      "\u001b[0;31m---------------------------------------------------------------------------\u001b[0m",
      "\u001b[0;31mValueError\u001b[0m                                Traceback (most recent call last)",
      "Cell \u001b[0;32mIn[4], line 3\u001b[0m\n\u001b[1;32m      1\u001b[0m \u001b[38;5;28;01mfrom\u001b[39;00m\u001b[38;5;250m \u001b[39m\u001b[38;5;21;01mglobal_forecasting_system\u001b[39;00m\u001b[38;5;250m \u001b[39m\u001b[38;5;28;01mimport\u001b[39;00m earliest_time_UTC\n\u001b[0;32m----> 3\u001b[0m earliest \u001b[38;5;241m=\u001b[39m \u001b[43mearliest_time_UTC\u001b[49m\u001b[43m(\u001b[49m\u001b[43m)\u001b[49m\n\u001b[1;32m      4\u001b[0m earliest\n",
      "File \u001b[0;32m~/Projects/global-forecasting-system/global_forecasting_system/global_forecasting_system.py:156\u001b[0m, in \u001b[0;36mearliest_time_UTC\u001b[0;34m(listing)\u001b[0m\n\u001b[1;32m    153\u001b[0m     listing \u001b[38;5;241m=\u001b[39m get_GFS_listing()\n\u001b[1;32m    155\u001b[0m \u001b[38;5;28;01mif\u001b[39;00m \u001b[38;5;28mlen\u001b[39m(listing) \u001b[38;5;241m==\u001b[39m \u001b[38;5;241m0\u001b[39m:\n\u001b[0;32m--> 156\u001b[0m     \u001b[38;5;28;01mraise\u001b[39;00m \u001b[38;5;167;01mValueError\u001b[39;00m(\u001b[38;5;124m\"\u001b[39m\u001b[38;5;124mzero-length GFS listing\u001b[39m\u001b[38;5;124m\"\u001b[39m)\n\u001b[1;32m    158\u001b[0m earliest_time \u001b[38;5;241m=\u001b[39m \u001b[38;5;28mmin\u001b[39m(listing\u001b[38;5;241m.\u001b[39mforecast_time_UTC)\u001b[38;5;241m.\u001b[39mto_pydatetime()\n\u001b[1;32m    160\u001b[0m \u001b[38;5;28;01mreturn\u001b[39;00m earliest_time\n",
      "\u001b[0;31mValueError\u001b[0m: zero-length GFS listing"
     ]
    }
   ],
   "source": [
    "from global_forecasting_system import earliest_time_UTC\n",
    "\n",
    "earliest = earliest_time_UTC()\n",
    "earliest"
   ]
  },
  {
   "cell_type": "code",
   "execution_count": null,
   "id": "4f2aec61",
   "metadata": {},
   "outputs": [],
   "source": [
    "earliest.to_pydatetime().date()"
   ]
  },
  {
   "cell_type": "code",
   "execution_count": null,
   "id": "229d091f",
   "metadata": {},
   "outputs": [],
   "source": [
    "type(earliest)"
   ]
  },
  {
   "cell_type": "code",
   "execution_count": null,
   "id": "3dd386bd",
   "metadata": {},
   "outputs": [],
   "source": [
    "Ta_C = forecast_Ta_C(\n",
    "    time_UTC=time_UTC,\n",
    "    geometry=geometry,\n",
    ")\n",
    "\n",
    "Ta_C"
   ]
  },
  {
   "cell_type": "code",
   "execution_count": null,
   "id": "31e6c9fc",
   "metadata": {},
   "outputs": [],
   "source": [
    "listing = global_forecasting_system.get_GFS_listing()\n",
    "listing"
   ]
  },
  {
   "cell_type": "code",
   "execution_count": null,
   "id": "99726c21",
   "metadata": {},
   "outputs": [],
   "source": [
    "listing[listing.forecast_time_UTC.apply(lambda forecast_time_UTC: str(forecast_time_UTC) <= str(time_UTC))]"
   ]
  },
  {
   "cell_type": "code",
   "execution_count": null,
   "id": "d9e02cc4",
   "metadata": {},
   "outputs": [],
   "source": [
    "before = listing[listing.forecast_time_UTC.apply(lambda forecast_time_UTC: str(forecast_time_UTC) <= str(time_UTC))].iloc[[-1]]"
   ]
  },
  {
   "cell_type": "code",
   "execution_count": null,
   "id": "f5d32c3b",
   "metadata": {},
   "outputs": [],
   "source": []
  },
  {
   "cell_type": "code",
   "execution_count": null,
   "id": "8ca59e87",
   "metadata": {},
   "outputs": [],
   "source": []
  },
  {
   "cell_type": "code",
   "execution_count": null,
   "id": "8a37169b",
   "metadata": {},
   "outputs": [],
   "source": [
    "# Let's debug the issue by examining the data\n",
    "from global_forecasting_system import GFS_file_addresses\n",
    "import pandas as pd\n",
    "import posixpath\n",
    "from datetime import datetime\n",
    "from os.path import splitext\n",
    "\n",
    "# Get some sample data to see the issue\n",
    "try:\n",
    "    addresses = GFS_file_addresses()[:10]  # Just get first 10 for debugging\n",
    "    address_df = pd.DataFrame({\"address\": addresses})\n",
    "    address_df[\"basename\"] = address_df.address.apply(lambda address: posixpath.basename(address))\n",
    "    print(\"Sample basenames:\")\n",
    "    print(address_df[\"basename\"].head())\n",
    "    \n",
    "    print(\"\\nTrying to extract source_hour:\")\n",
    "    address_df[\"source_hour\"] = address_df.basename.apply(lambda basename: int(basename.split(\"_\")[3][:2]))\n",
    "    print(\"Source hours:\")\n",
    "    print(address_df[\"source_hour\"])\n",
    "    print(\"Source hour dtypes:\")\n",
    "    print(address_df[\"source_hour\"].dtype)\n",
    "    \n",
    "except Exception as e:\n",
    "    print(f\"Error during debugging: {e}\")\n",
    "    import traceback\n",
    "    traceback.print_exc()"
   ]
  },
  {
   "cell_type": "code",
   "execution_count": null,
   "id": "8cf1053c",
   "metadata": {},
   "outputs": [],
   "source": [
    "# Let's test the GFS most recent date address function\n",
    "from global_forecasting_system import GFS_most_recent_date_address\n",
    "\n",
    "try:\n",
    "    date_url = GFS_most_recent_date_address()\n",
    "    print(f\"Date URL: {date_url}\")\n",
    "    \n",
    "    # Test if we can fetch the page\n",
    "    import requests\n",
    "    response = requests.get(date_url)\n",
    "    print(f\"Response status: {response.status_code}\")\n",
    "    print(f\"Response length: {len(response.text)}\")\n",
    "    \n",
    "    if response.status_code == 200:\n",
    "        from bs4 import BeautifulSoup\n",
    "        soup = BeautifulSoup(response.text, \"html.parser\")\n",
    "        links = [link.get(\"href\") for link in soup.find_all(\"a\")]\n",
    "        print(f\"Total links found: {len(links)}\")\n",
    "        \n",
    "        # Look for .grb2 files\n",
    "        from fnmatch import fnmatch\n",
    "        grb2_files = [link for link in links if fnmatch(link, \"*.grb2\")]\n",
    "        print(f\"GRB2 files found: {len(grb2_files)}\")\n",
    "        if len(grb2_files) > 0:\n",
    "            print(\"Sample GRB2 files:\")\n",
    "            for i, file in enumerate(grb2_files[:5]):\n",
    "                print(f\"  {i+1}: {file}\")\n",
    "        \n",
    "except Exception as e:\n",
    "    print(f\"Error: {e}\")\n",
    "    import traceback\n",
    "    traceback.print_exc()"
   ]
  },
  {
   "cell_type": "code",
   "execution_count": null,
   "id": "394852bc",
   "metadata": {},
   "outputs": [],
   "source": [
    "# Reload the module to get the latest changes\n",
    "import importlib\n",
    "import global_forecasting_system\n",
    "importlib.reload(global_forecasting_system)\n",
    "\n",
    "# Test the updated function\n",
    "from global_forecasting_system import earliest_time_UTC\n",
    "\n",
    "try:\n",
    "    earliest = earliest_time_UTC()\n",
    "    print(f\"Success: {earliest}\")\n",
    "except Exception as e:\n",
    "    print(f\"Error: {e}\")\n",
    "    import traceback\n",
    "    traceback.print_exc()"
   ]
  },
  {
   "cell_type": "code",
   "execution_count": null,
   "id": "70a600dc",
   "metadata": {},
   "outputs": [],
   "source": [
    "# Test again with fresh import\n",
    "from global_forecasting_system import get_GFS_listing\n",
    "\n",
    "try:\n",
    "    listing = get_GFS_listing()\n",
    "    print(f\"GFS listing length: {len(listing)}\")\n",
    "    print(f\"Columns: {listing.columns.tolist()}\")\n",
    "    print(f\"Dtypes: {listing.dtypes}\")\n",
    "    \n",
    "    if len(listing) == 0:\n",
    "        print(\"Empty listing returned successfully!\")\n",
    "    else:\n",
    "        print(\"Non-empty listing:\")\n",
    "        print(listing.head())\n",
    "        \n",
    "except Exception as e:\n",
    "    print(f\"Error in get_GFS_listing: {e}\")\n",
    "    import traceback\n",
    "    traceback.print_exc()"
   ]
  },
  {
   "cell_type": "code",
   "execution_count": null,
   "id": "48a9935a",
   "metadata": {},
   "outputs": [],
   "source": [
    "# Test the earliest_time_UTC function\n",
    "from global_forecasting_system import earliest_time_UTC\n",
    "\n",
    "try:\n",
    "    earliest = earliest_time_UTC()\n",
    "    print(f\"Success: {earliest}\")\n",
    "except ValueError as e:\n",
    "    print(f\"Expected ValueError: {e}\")\n",
    "except Exception as e:\n",
    "    print(f\"Unexpected error: {e}\")\n",
    "    import traceback\n",
    "    traceback.print_exc()"
   ]
  }
 ],
 "metadata": {
  "kernelspec": {
   "display_name": "global-forecasting-system",
   "language": "python",
   "name": "python3"
  },
  "language_info": {
   "codemirror_mode": {
    "name": "ipython",
    "version": 3
   },
   "file_extension": ".py",
   "mimetype": "text/x-python",
   "name": "python",
   "nbconvert_exporter": "python",
   "pygments_lexer": "ipython3",
   "version": "3.10.18"
  }
 },
 "nbformat": 4,
 "nbformat_minor": 5
}
